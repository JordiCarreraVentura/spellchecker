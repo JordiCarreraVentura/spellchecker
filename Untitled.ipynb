{
 "cells": [
  {
   "cell_type": "code",
   "execution_count": 4,
   "metadata": {
    "collapsed": false
   },
   "outputs": [
    {
     "name": "stdout",
     "output_type": "stream",
     "text": [
      "{'PRP$': 19, 'VBG': 29, 'FW': 5, 'VBN': 30, 'VBP': 31, 'WDT': 33, 'JJ': 7, 'WP': 34, 'VBZ': 32, 'DT': 3, 'RP': 23, 'NN': 12, 'VBD': 28, 'POS': 17, 'TO': 25, 'PRP': 18, 'RB': 20, 'NNS': 13, 'NNP': 14, 'VB': 27, 'WRB': 36, 'CC': 1, 'LS': 10, 'PDT': 16, 'RBS': 22, 'RBR': 21, 'CD': 2, 'EX': 4, 'IN': 6, 'WP$': 35, 'MD': 11, 'NNPS': 15, 'JJS': 9, 'JJR': 8, 'SYM': 24, 'UH': 26}\n"
     ]
    }
   ],
   "source": [
    "PoS_l = ['CC', 'CD', 'DT', 'EX', 'FW', 'IN', 'JJ', 'JJR', 'JJS', 'LS', 'MD', 'NN', 'NNS', 'NNP', 'NNPS', 'PDT',\n",
    "         'POS', 'PRP', 'PRP$', 'RB', 'RBR', 'RBS', 'RP',\n",
    "         'SYM', 'TO', 'UH', 'VB', 'VBD', 'VBG', 'VBN', 'VBP', 'VBZ', 'WDT', 'WP', 'WP$', 'WRB']\n",
    "PoS = {}\n",
    "i = 1\n",
    "for k in PoS_l:\n",
    "\tPoS[k] = i\n",
    "\ti += 1\n",
    "print PoS"
   ]
  },
  {
   "cell_type": "code",
   "execution_count": null,
   "metadata": {
    "collapsed": true
   },
   "outputs": [],
   "source": [
    "def cur_PoS_tag(sent, position):\n",
    "    "
   ]
  }
 ],
 "metadata": {
  "kernelspec": {
   "display_name": "Python 2",
   "language": "python",
   "name": "python2"
  },
  "language_info": {
   "codemirror_mode": {
    "name": "ipython",
    "version": 2
   },
   "file_extension": ".py",
   "mimetype": "text/x-python",
   "name": "python",
   "nbconvert_exporter": "python",
   "pygments_lexer": "ipython2",
   "version": "2.7.6"
  }
 },
 "nbformat": 4,
 "nbformat_minor": 0
}
